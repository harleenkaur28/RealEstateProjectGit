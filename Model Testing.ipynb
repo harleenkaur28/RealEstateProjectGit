{
 "cells": [
  {
   "cell_type": "code",
   "execution_count": 1,
   "id": "e9f27c0e",
   "metadata": {},
   "outputs": [],
   "source": [
    "import numpy as np\n",
    "from joblib import dump, load\n",
    "model= load('RealEstate.joblib')"
   ]
  },
  {
   "cell_type": "code",
   "execution_count": 2,
   "id": "02d98d03",
   "metadata": {},
   "outputs": [
    {
     "data": {
      "text/plain": [
       "array([18.743])"
      ]
     },
     "execution_count": 2,
     "metadata": {},
     "output_type": "execute_result"
    }
   ],
   "source": [
    "features= np.array([[1,2,3,4,5,6,7,8,9,9,11,12,12]])  #Enter a test data\n",
    "model.predict(features)"
   ]
  }
 ],
 "metadata": {
  "kernelspec": {
   "display_name": "Python 3 (ipykernel)",
   "language": "python",
   "name": "python3"
  },
  "language_info": {
   "codemirror_mode": {
    "name": "ipython",
    "version": 3
   },
   "file_extension": ".py",
   "mimetype": "text/x-python",
   "name": "python",
   "nbconvert_exporter": "python",
   "pygments_lexer": "ipython3",
   "version": "3.12.3"
  }
 },
 "nbformat": 4,
 "nbformat_minor": 5
}
